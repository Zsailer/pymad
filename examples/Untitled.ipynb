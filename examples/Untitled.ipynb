{
 "cells": [
  {
   "cell_type": "markdown",
   "metadata": {},
   "source": [
    "# Dependencies"
   ]
  },
  {
   "cell_type": "code",
   "execution_count": 1,
   "metadata": {},
   "outputs": [],
   "source": [
    "import dendropy\n",
    "import numpy as np\n",
    "import pandas as pd\n",
    "from collections import Counter\n",
    "import itertools as it"
   ]
  },
  {
   "cell_type": "markdown",
   "metadata": {},
   "source": [
    "# 1. Check tree for unique labels"
   ]
  },
  {
   "cell_type": "code",
   "execution_count": 2,
   "metadata": {},
   "outputs": [],
   "source": [
    "# Read tree file\n",
    "tree = dendropy.Tree.get(path=\"tree.nwk\", schema=\"newick\")"
   ]
  },
  {
   "cell_type": "code",
   "execution_count": 3,
   "metadata": {},
   "outputs": [],
   "source": [
    "####### TESTING\n",
    "from dendropy import Node, Taxon\n",
    "\n",
    "n_copies = 10\n",
    "\n",
    "# Get ancestral node\n",
    "anc = tree.nodes()[0]\n",
    "\n",
    "for i in range(n_copies+1):\n",
    "    # Add a new taxon\n",
    "    taxon = Taxon(\"ZACH\")\n",
    "\n",
    "    # Add taxon to namespace\n",
    "    tree.taxon_namespace.add_taxon(taxon)\n",
    "\n",
    "    # Add taxon node to tree\n",
    "    new_node = Node(taxon=taxon)\n",
    "    anc.add_child(new_node)"
   ]
  },
  {
   "cell_type": "code",
   "execution_count": 4,
   "metadata": {},
   "outputs": [
    {
     "name": "stdout",
     "output_type": "stream",
     "text": [
      "10 taxa were redundant, so I removed them.\n"
     ]
    }
   ],
   "source": [
    "def remove_redundant_taxa(tree):\n",
    "    leafs = tree.leaf_nodes()\n",
    "    leaf_labels = tree.taxon_namespace.labels()\n",
    "\n",
    "    # Check that all leafs are unique\n",
    "    total = 0\n",
    "    for label, count in Counter(leaf_labels).items():\n",
    "        total += count-1\n",
    "        for i in range(count-1):\n",
    "            node = tree.find_node_with_taxon_label(label)\n",
    "            tree.prune_nodes([node])\n",
    "\n",
    "    if total > 0: print(\"{} taxa were redundant, so I removed them.\".format(total))\n",
    "    return tree\n",
    "\n",
    "tree = remove_redundant_taxa(tree)"
   ]
  },
  {
   "cell_type": "markdown",
   "metadata": {},
   "source": [
    "# 2. Give internal nodes labels"
   ]
  },
  {
   "cell_type": "code",
   "execution_count": 5,
   "metadata": {},
   "outputs": [],
   "source": [
    "def check_nodes_are_labelled(tree):\n",
    "    internal = tree.internal_nodes()\n",
    "    for i, node in enumerate(internal):\n",
    "        node.label = \"anc{}\".format(i)     \n",
    "    for node in tree.leaf_nodes():\n",
    "        node.label = node.taxon.label\n",
    "    return tree\n",
    "\n",
    "tree = check_nodes_are_labelled(tree)"
   ]
  },
  {
   "cell_type": "markdown",
   "metadata": {},
   "source": [
    "# 3. Calculate pairwise distance between all nodes"
   ]
  },
  {
   "cell_type": "code",
   "execution_count": 6,
   "metadata": {},
   "outputs": [],
   "source": [
    "def pairwise_distance_matrix(tree):\n",
    "    dist = tree.node_distance_matrix()\n",
    "    nodes = tree.nodes()\n",
    "    node_labels = [n.label for n in nodes]\n",
    "\n",
    "    matrix = pd.DataFrame(\n",
    "        index=node_labels, \n",
    "        columns=node_labels)\n",
    "\n",
    "    for i in range(len(nodes)):\n",
    "        for j in range(len(nodes)):\n",
    "            node1 = nodes[i]\n",
    "            node2 = nodes[j]\n",
    "            matrix[node1.label][node2.label] = dist(node1, node2)\n",
    "    return matrix\n",
    "\n",
    "matrix = pairwise_distance_matrix(tree)"
   ]
  },
  {
   "cell_type": "markdown",
   "metadata": {},
   "source": [
    "# 4. Pairwise combinations on sides of branch"
   ]
  },
  {
   "cell_type": "code",
   "execution_count": 7,
   "metadata": {},
   "outputs": [],
   "source": [
    "# Bundles nodes an each side of the branch\n",
    "branch = tree.edges()[3]\n",
    "dij = branch.length\n",
    "head = branch.head_node\n",
    "\n",
    "# Get all nodes on leftmost side of branch\n",
    "side_one = []\n",
    "for n in head.preorder_iter(lambda x: x.is_leaf()):\n",
    "    if n == branch.tail_node:\n",
    "        break\n",
    "    elif n.is_leaf():\n",
    "        side_one.append(n)\n",
    "\n",
    "# Get other nodes\n",
    "side_two = list(set(tree.leaf_nodes()).difference(side_one))"
   ]
  },
  {
   "cell_type": "markdown",
   "metadata": {},
   "source": [
    "# 5. Sort pairwise combination"
   ]
  },
  {
   "cell_type": "code",
   "execution_count": 8,
   "metadata": {},
   "outputs": [],
   "source": [
    "pairs_strad = [(n1, n2) for n1 in side_one for n2 in side_two]\n",
    "pairs_side1 = list(it.combinations(side_one, 2))\n",
    "pairs_side2 = list(it.combinations(side_two, 2)) \n",
    "pairs_same_side = pairs_side1 + pairs_side2\n",
    "\n",
    "n_straddle = len(pairs_strad)\n",
    "n_same_side = len(pairs_same_side)\n",
    "\n",
    "rbca = np.empty(n_straddle+n_same_side, dtype=float)"
   ]
  },
  {
   "cell_type": "markdown",
   "metadata": {},
   "source": [
    "# 6. Calculate distances for straddle pairs"
   ]
  },
  {
   "cell_type": "code",
   "execution_count": 9,
   "metadata": {},
   "outputs": [],
   "source": [
    "dist = tree.node_distance_matrix()\n",
    "\n",
    "# Distance between two leaf nodes\n",
    "dbc = np.array([matrix[n1.label][n2.label] for n1, n2 in pairs_strad])\n",
    "\n",
    "# Distance from leaf node to candidate branch\n",
    "dbi = np.array([dist(head,n1) for n1, n2 in pairs_strad])\n",
    "\n",
    "# Find optimal position for node on branch\n",
    "rho = np.sum((dbc-2*dbi)*dbc**-2)/(2*dij*np.sum(dbc**-2))\n",
    "rho = min(max(0, rho), 1)\n",
    "\n",
    "# Calculate distance from leaf to branch\n",
    "dab = dbi + dij*rho\n",
    "rbca[:n_straddle] = np.abs(2*dab/dbc-1)"
   ]
  },
  {
   "cell_type": "markdown",
   "metadata": {},
   "source": [
    "# 7. Calculate distances for same side pairs"
   ]
  },
  {
   "cell_type": "code",
   "execution_count": 10,
   "metadata": {},
   "outputs": [],
   "source": [
    "dbc_same = np.array([matrix[n1.label][n2.label] for n1, n2 in pairs_same_side])\n",
    "dab_same = np.array([dist(head,n1) for n1, n2 in pairs_same_side])\n",
    "rbca[n_straddle:] = np.abs(2*dab_same/dbc_same-1)"
   ]
  },
  {
   "cell_type": "markdown",
   "metadata": {},
   "source": [
    "# 8. Calculate deviations"
   ]
  },
  {
   "cell_type": "code",
   "execution_count": 18,
   "metadata": {},
   "outputs": [],
   "source": [
    "x = pd.Series(index=tree.edges())"
   ]
  },
  {
   "cell_type": "code",
   "execution_count": 19,
   "metadata": {},
   "outputs": [
    {
     "data": {
      "text/plain": [
       "nan"
      ]
     },
     "execution_count": 19,
     "metadata": {},
     "output_type": "execute_result"
    }
   ],
   "source": [
    "x[tree.edges()[0]]"
   ]
  },
  {
   "cell_type": "code",
   "execution_count": 15,
   "metadata": {},
   "outputs": [],
   "source": [
    "edge.label"
   ]
  },
  {
   "cell_type": "markdown",
   "metadata": {},
   "source": [
    "# 8. Calculate the root ambiguity index "
   ]
  }
 ],
 "metadata": {
  "kernelspec": {
   "display_name": "Python 3",
   "language": "python",
   "name": "python3"
  },
  "language_info": {
   "codemirror_mode": {
    "name": "ipython",
    "version": 3
   },
   "file_extension": ".py",
   "mimetype": "text/x-python",
   "name": "python",
   "nbconvert_exporter": "python",
   "pygments_lexer": "ipython3",
   "version": "3.6.2"
  }
 },
 "nbformat": 4,
 "nbformat_minor": 2
}
