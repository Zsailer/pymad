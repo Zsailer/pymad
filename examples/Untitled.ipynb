{
 "cells": [
  {
   "cell_type": "code",
   "execution_count": 131,
   "metadata": {},
   "outputs": [],
   "source": [
    "import dendropy\n",
    "import numpy as np"
   ]
  },
  {
   "cell_type": "code",
   "execution_count": 2,
   "metadata": {},
   "outputs": [],
   "source": [
    "tree = dendropy.Tree.get(path=\"tree.nwk\", schema=\"newick\")"
   ]
  },
  {
   "cell_type": "code",
   "execution_count": 15,
   "metadata": {},
   "outputs": [],
   "source": [
    "n = tree.nodes()[0]\n",
    "n2 = tree.nodes()[1]"
   ]
  },
  {
   "cell_type": "code",
   "execution_count": 7,
   "metadata": {},
   "outputs": [],
   "source": [
    "x = tree.node_distance_matrix()"
   ]
  },
  {
   "cell_type": "code",
   "execution_count": 16,
   "metadata": {},
   "outputs": [
    {
     "data": {
      "text/plain": [
       "0.69395"
      ]
     },
     "execution_count": 16,
     "metadata": {},
     "output_type": "execute_result"
    }
   ],
   "source": [
    "x(n, n2)"
   ]
  },
  {
   "cell_type": "code",
   "execution_count": 19,
   "metadata": {},
   "outputs": [],
   "source": [
    "e = tree.edges()[0]"
   ]
  },
  {
   "cell_type": "code",
   "execution_count": 23,
   "metadata": {},
   "outputs": [
    {
     "data": {
      "text/plain": [
       "(<Node object at 0x110f397b8: 'None' (None)>, None)"
      ]
     },
     "execution_count": 23,
     "metadata": {},
     "output_type": "execute_result"
    }
   ],
   "source": [
    "e.head_node, e.tail_node"
   ]
  },
  {
   "cell_type": "code",
   "execution_count": 161,
   "metadata": {},
   "outputs": [
    {
     "name": "stdout",
     "output_type": "stream",
     "text": [
      "0.0\n"
     ]
    },
    {
     "name": "stderr",
     "output_type": "stream",
     "text": [
      "/Users/Zsailer/miniconda3/envs/alprotease/lib/python3.6/site-packages/ipykernel_launcher.py:25: RuntimeWarning: invalid value encountered in double_scalars\n"
     ]
    }
   ],
   "source": [
    "edges = tree.edges()\n",
    "M_dist = tree.node_distance_matrix()\n",
    "\n",
    "# Test on single edge\n",
    "edge = edges[9]\n",
    "\n",
    "i = edge.head_node\n",
    "j = edge.tail_node\n",
    "\n",
    "I = set(i.child_nodes()).intersection(i.leaf_nodes())\n",
    "J = set(j.child_nodes()).intersection(j.leaf_nodes())\n",
    "\n",
    "dij = edge.length\n",
    "\n",
    "dbc = np.empty((len(I), len(J)), dtype=float)\n",
    "dbi = np.empty((len(I), len(J)), dtype=float)\n",
    "\n",
    "for index0, b in enumerate(I):\n",
    "    for index1, c in enumerate(J):\n",
    "        dbc[index0, index1] = M_dist(b,c)\n",
    "        dbi[index0, index1] = M_dist(b,i)\n",
    "\n",
    "rho = np.sum((dbc - 2 * dbi) * dbc**-2) /  (2 * dij * np.sum(dbc**-2))\n",
    "rho = min(max(0, rho), 1)\n",
    "\n",
    "r = np.sum( ((2*(dbi + rho * dij))/dbc  - 1)**2)\n",
    "\n",
    "print(r)"
   ]
  }
 ],
 "metadata": {
  "kernelspec": {
   "display_name": "Python 3",
   "language": "python",
   "name": "python3"
  },
  "language_info": {
   "codemirror_mode": {
    "name": "ipython",
    "version": 3
   },
   "file_extension": ".py",
   "mimetype": "text/x-python",
   "name": "python",
   "nbconvert_exporter": "python",
   "pygments_lexer": "ipython3",
   "version": "3.6.2"
  }
 },
 "nbformat": 4,
 "nbformat_minor": 2
}
